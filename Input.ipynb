{
 "cells": [
  {
   "cell_type": "code",
   "execution_count": 2,
   "metadata": {},
   "outputs": [],
   "source": [
    "import sqlite3\n",
    "import datetime\n",
    "\n",
    "def insert(roll_no,fname,lname,day,status):\n",
    "    conn=sqlite3.connect(\"college.db\")\n",
    "    cur=conn.cursor()\n",
    "    # print(roll_no,fname,lname,day,status)\n",
    "    cur.execute(\"INSERT INTO attendance VALUES (?,?,?,?,?)\",(roll_no,fname,lname,day,status))\n",
    "    conn.commit()\n",
    "    conn.close()\n",
    "\n",
    "def parse(csvfilename):\n",
    "    \"\"\"\n",
    "    Reads CSV file named csvfilename, parses\n",
    "    it's content and returns the data within\n",
    "    the file as a list of lists.\n",
    "    \"\"\"\n",
    "\n",
    "    table = []\n",
    "    with open(csvfilename, \"r\") as csvfile:\n",
    "        for line in csvfile:\n",
    "            line = line.rstrip()\n",
    "            columns = line.split(',')\n",
    "            table.append(columns)\n",
    "    return table\n",
    "\n",
    "def feeddb(table):\n",
    "\n",
    "    for col in table:\n",
    "        a=int(col[0])\n",
    "        b=str(col[1])\n",
    "        c = str(col[2])\n",
    "        d=(col[3].strip()).split('-')\n",
    "        dy=int(d[0])\n",
    "        mon=int(d[1])\n",
    "        yr=int(d[2])\n",
    "        d1=datetime.date(yr,mon,dy)\n",
    "        e=str(col[4])\n",
    "        insert(a,b,c,d1,e)\n",
    "\n",
    "table = parse(\"stu.csv\")\n",
    "feeddb(table)\n"
   ]
  },
  {
   "cell_type": "code",
   "execution_count": null,
   "metadata": {},
   "outputs": [],
   "source": []
  },
  {
   "cell_type": "code",
   "execution_count": null,
   "metadata": {},
   "outputs": [],
   "source": []
  }
 ],
 "metadata": {
  "kernelspec": {
   "display_name": "Python 3",
   "language": "python",
   "name": "python3"
  },
  "language_info": {
   "codemirror_mode": {
    "name": "ipython",
    "version": 3
   },
   "file_extension": ".py",
   "mimetype": "text/x-python",
   "name": "python",
   "nbconvert_exporter": "python",
   "pygments_lexer": "ipython3",
   "version": "3.7.6"
  }
 },
 "nbformat": 4,
 "nbformat_minor": 4
}
