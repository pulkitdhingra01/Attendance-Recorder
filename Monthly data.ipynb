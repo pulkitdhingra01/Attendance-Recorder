{
 "cells": [
  {
   "cell_type": "code",
   "execution_count": 1,
   "metadata": {},
   "outputs": [],
   "source": [
    "# for any student based on month/year\n",
    "import sqlite3\n",
    "import sys,datetime\n",
    "#roll_no=int(input(\"Enter Roll No of Student: \"))\n",
    "#month=int(input(\"Enter Month in digits: \"))\n",
    "#year=int(input(\"Enter year : \"))\n",
    "\n",
    "def viewall():\n",
    "    sdate=datetime.date(2018,4,1)\n",
    "    edate=datetime.date(2018,4,30)\n",
    "    conn = sqlite3.connect(\"college.db\")\n",
    "    cur = conn.cursor()\n",
    "    cur.execute(\"SELECT * FROM attendance where day>=? and day<=? \", (sdate,edate))\n",
    "    global data\n",
    "    data= cur.fetchall()\n",
    "\n",
    "def feedfile(data):\n",
    "    f = open('student_details_for_a_month.csv','w')\n",
    "    for row in data:\n",
    "        for ele in row:\n",
    "            f.write(str(ele))\n",
    "            f.write(',')\n",
    "        f.write('\\n')\n",
    "    f.close()\n",
    "viewall()\n",
    "feedfile(data)\n"
   ]
  },
  {
   "cell_type": "code",
   "execution_count": null,
   "metadata": {},
   "outputs": [],
   "source": []
  }
 ],
 "metadata": {
  "kernelspec": {
   "display_name": "Python 3",
   "language": "python",
   "name": "python3"
  },
  "language_info": {
   "codemirror_mode": {
    "name": "ipython",
    "version": 3
   },
   "file_extension": ".py",
   "mimetype": "text/x-python",
   "name": "python",
   "nbconvert_exporter": "python",
   "pygments_lexer": "ipython3",
   "version": "3.7.6"
  }
 },
 "nbformat": 4,
 "nbformat_minor": 4
}
