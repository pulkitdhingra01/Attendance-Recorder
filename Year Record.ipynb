{
 "cells": [
  {
   "cell_type": "code",
   "execution_count": 1,
   "metadata": {},
   "outputs": [
    {
     "name": "stdout",
     "output_type": "stream",
     "text": [
      "Enter Roll No of Student: 21\n",
      "Enter year : 2018\n"
     ]
    }
   ],
   "source": [
    "# for any student based on month/year\n",
    "import sqlite3\n",
    "import sys,datetime\n",
    "roll_no=int(input(\"Enter Roll No of Student: \"))\n",
    "\n",
    "year=int(input(\"Enter year : \"))\n",
    "\n",
    "def viewall(roll_no,year):\n",
    "    sdate=datetime.date(year,1,1)\n",
    "    edate=datetime.date(year,12,31)\n",
    "    conn = sqlite3.connect(\"college.db\")\n",
    "    cur = conn.cursor()\n",
    "    cur.execute(\"SELECT * FROM attendance where roll_no=? and day>=? and day<=? \", (roll_no,sdate,edate))\n",
    "    global data\n",
    "    data= cur.fetchall()\n",
    "    # print(data)\n",
    "\n",
    "\n",
    "\n",
    "def feedfile(data):\n",
    "    f = open('student_details_for_a_year.csv','w')\n",
    "    for row in data:\n",
    "        for ele in row:\n",
    "            f.write(str(ele))\n",
    "            f.write(',')\n",
    "        f.write('\\n')\n",
    "    f.close()\n",
    "viewall(roll_no,year)\n",
    "feedfile(data)"
   ]
  },
  {
   "cell_type": "code",
   "execution_count": null,
   "metadata": {},
   "outputs": [],
   "source": []
  }
 ],
 "metadata": {
  "kernelspec": {
   "display_name": "Python 3",
   "language": "python",
   "name": "python3"
  },
  "language_info": {
   "codemirror_mode": {
    "name": "ipython",
    "version": 3
   },
   "file_extension": ".py",
   "mimetype": "text/x-python",
   "name": "python",
   "nbconvert_exporter": "python",
   "pygments_lexer": "ipython3",
   "version": "3.7.6"
  }
 },
 "nbformat": 4,
 "nbformat_minor": 4
}
