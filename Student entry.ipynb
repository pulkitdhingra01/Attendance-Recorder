{
 "cells": [
  {
   "cell_type": "code",
   "execution_count": 1,
   "metadata": {},
   "outputs": [
    {
     "name": "stdout",
     "output_type": "stream",
     "text": [
      "Enter Roll No of Student: 21\n"
     ]
    }
   ],
   "source": [
    "# for any student based on month/year\n",
    "import sqlite3\n",
    "import sys,datetime\n",
    "roll_no=int(input(\"Enter Roll No of Student: \"))\n",
    "\n",
    "\n",
    "def viewall(roll_no):\n",
    "\n",
    "    conn = sqlite3.connect(\"college.db\")\n",
    "    cur = conn.cursor()\n",
    "    cur.execute(\"SELECT * FROM attendance where roll_no=?  \", (roll_no,))\n",
    "    global data\n",
    "    data= cur.fetchall()\n",
    "\n",
    "def feedfile(data):\n",
    "    f = open('details_for_a_student.csv','w')\n",
    "    for row in data:\n",
    "        for ele in row:\n",
    "            f.write(str(ele))\n",
    "            f.write(',')\n",
    "        f.write('\\n')\n",
    "    f.close()\n",
    "viewall(roll_no)\n",
    "feedfile(data)"
   ]
  },
  {
   "cell_type": "code",
   "execution_count": null,
   "metadata": {},
   "outputs": [],
   "source": []
  }
 ],
 "metadata": {
  "kernelspec": {
   "display_name": "Python 3",
   "language": "python",
   "name": "python3"
  },
  "language_info": {
   "codemirror_mode": {
    "name": "ipython",
    "version": 3
   },
   "file_extension": ".py",
   "mimetype": "text/x-python",
   "name": "python",
   "nbconvert_exporter": "python",
   "pygments_lexer": "ipython3",
   "version": "3.7.6"
  }
 },
 "nbformat": 4,
 "nbformat_minor": 4
}
